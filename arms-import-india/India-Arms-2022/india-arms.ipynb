{
 "cells": [
  {
   "cell_type": "code",
   "execution_count": 3,
   "id": "300bccca-4fe6-4008-a2dc-6623274a8638",
   "metadata": {},
   "outputs": [],
   "source": [
    "import requests\n",
    "import pandas as pd"
   ]
  },
  {
   "cell_type": "code",
   "execution_count": 14,
   "id": "884673b6-6a5c-4fb2-afce-9b5e5cece9ec",
   "metadata": {},
   "outputs": [],
   "source": [
    "df = pd.read_csv(\"india_arms-cleaned.csv\")"
   ]
  },
  {
   "cell_type": "code",
   "execution_count": 15,
   "id": "f944f50e-32d2-4916-94cb-615a5920ef0d",
   "metadata": {},
   "outputs": [
    {
     "name": "stdout",
     "output_type": "stream",
     "text": [
      "<class 'pandas.core.frame.DataFrame'>\n",
      "RangeIndex: 266 entries, 0 to 265\n",
      "Data columns (total 64 columns):\n",
      " #   Column        Non-Null Count  Dtype  \n",
      "---  ------        --------------  -----  \n",
      " 0   Country Name  266 non-null    object \n",
      " 1   1960          132 non-null    float64\n",
      " 2   1961          119 non-null    float64\n",
      " 3   1962          126 non-null    float64\n",
      " 4   1963          133 non-null    float64\n",
      " 5   1964          143 non-null    float64\n",
      " 6   1965          146 non-null    float64\n",
      " 7   1966          141 non-null    float64\n",
      " 8   1967          131 non-null    float64\n",
      " 9   1968          140 non-null    float64\n",
      " 10  1969          138 non-null    float64\n",
      " 11  1970          137 non-null    float64\n",
      " 12  1971          148 non-null    float64\n",
      " 13  1972          139 non-null    float64\n",
      " 14  1973          149 non-null    float64\n",
      " 15  1974          141 non-null    float64\n",
      " 16  1975          152 non-null    float64\n",
      " 17  1976          153 non-null    float64\n",
      " 18  1977          154 non-null    float64\n",
      " 19  1978          160 non-null    float64\n",
      " 20  1979          150 non-null    float64\n",
      " 21  1980          155 non-null    float64\n",
      " 22  1981          159 non-null    float64\n",
      " 23  1982          158 non-null    float64\n",
      " 24  1983          151 non-null    float64\n",
      " 25  1984          155 non-null    float64\n",
      " 26  1985          158 non-null    float64\n",
      " 27  1986          150 non-null    float64\n",
      " 28  1987          140 non-null    float64\n",
      " 29  1988          143 non-null    float64\n",
      " 30  1989          147 non-null    float64\n",
      " 31  1990          145 non-null    float64\n",
      " 32  1991          133 non-null    float64\n",
      " 33  1992          127 non-null    float64\n",
      " 34  1993          120 non-null    float64\n",
      " 35  1994          138 non-null    float64\n",
      " 36  1995          135 non-null    float64\n",
      " 37  1996          140 non-null    float64\n",
      " 38  1997          140 non-null    float64\n",
      " 39  1998          131 non-null    float64\n",
      " 40  1999          134 non-null    float64\n",
      " 41  2000          143 non-null    float64\n",
      " 42  2001          130 non-null    float64\n",
      " 43  2002          136 non-null    float64\n",
      " 44  2003          128 non-null    float64\n",
      " 45  2004          134 non-null    float64\n",
      " 46  2005          142 non-null    float64\n",
      " 47  2006          147 non-null    float64\n",
      " 48  2007          146 non-null    float64\n",
      " 49  2008          145 non-null    float64\n",
      " 50  2009          154 non-null    float64\n",
      " 51  2010          158 non-null    float64\n",
      " 52  2011          160 non-null    float64\n",
      " 53  2012          168 non-null    float64\n",
      " 54  2013          162 non-null    float64\n",
      " 55  2014          161 non-null    float64\n",
      " 56  2015          166 non-null    float64\n",
      " 57  2016          165 non-null    float64\n",
      " 58  2017          155 non-null    float64\n",
      " 59  2018          162 non-null    float64\n",
      " 60  2019          166 non-null    float64\n",
      " 61  2020          158 non-null    float64\n",
      " 62  2021          162 non-null    float64\n",
      " 63  2022          148 non-null    float64\n",
      "dtypes: float64(63), object(1)\n",
      "memory usage: 133.1+ KB\n"
     ]
    }
   ],
   "source": [
    "df.info()"
   ]
  },
  {
   "cell_type": "code",
   "execution_count": 16,
   "id": "ff499c16-48e0-41ee-951c-bb859a70e0d2",
   "metadata": {},
   "outputs": [],
   "source": [
    "new_df = df[['Country Name'] + [col for col in df.columns if col >= '2004' and col <= '2022']]"
   ]
  },
  {
   "cell_type": "code",
   "execution_count": 17,
   "id": "6fb45a12-aa0a-4633-8338-bb1b65e3b57f",
   "metadata": {},
   "outputs": [
    {
     "name": "stdout",
     "output_type": "stream",
     "text": [
      "<class 'pandas.core.frame.DataFrame'>\n",
      "RangeIndex: 266 entries, 0 to 265\n",
      "Data columns (total 20 columns):\n",
      " #   Column        Non-Null Count  Dtype  \n",
      "---  ------        --------------  -----  \n",
      " 0   Country Name  266 non-null    object \n",
      " 1   2004          134 non-null    float64\n",
      " 2   2005          142 non-null    float64\n",
      " 3   2006          147 non-null    float64\n",
      " 4   2007          146 non-null    float64\n",
      " 5   2008          145 non-null    float64\n",
      " 6   2009          154 non-null    float64\n",
      " 7   2010          158 non-null    float64\n",
      " 8   2011          160 non-null    float64\n",
      " 9   2012          168 non-null    float64\n",
      " 10  2013          162 non-null    float64\n",
      " 11  2014          161 non-null    float64\n",
      " 12  2015          166 non-null    float64\n",
      " 13  2016          165 non-null    float64\n",
      " 14  2017          155 non-null    float64\n",
      " 15  2018          162 non-null    float64\n",
      " 16  2019          166 non-null    float64\n",
      " 17  2020          158 non-null    float64\n",
      " 18  2021          162 non-null    float64\n",
      " 19  2022          148 non-null    float64\n",
      "dtypes: float64(19), object(1)\n",
      "memory usage: 41.7+ KB\n"
     ]
    }
   ],
   "source": [
    "new_df.info()"
   ]
  },
  {
   "cell_type": "code",
   "execution_count": 22,
   "id": "f685edea-0785-4b29-bba3-034d4ae8433a",
   "metadata": {},
   "outputs": [
    {
     "name": "stdout",
     "output_type": "stream",
     "text": [
      "Country Name: Israel\n",
      "2004: 846000000.0\n",
      "2005: 1135000000.0\n",
      "2006: 1125000000.0\n",
      "2007: 835000000.0\n",
      "2008: 679000000.0\n",
      "2009: 156000000.0\n",
      "2010: 71000000.0\n",
      "2011: 86000000.0\n",
      "2012: 127000000.0\n",
      "2013: 216000000.0\n",
      "2014: 549000000.0\n",
      "2015: 688000000.0\n",
      "2016: 622000000.0\n",
      "2017: 535000000.0\n",
      "2018: 494000000.0\n",
      "2019: 519000000.0\n",
      "2020: 367000000.0\n",
      "2021: 476000000.0\n",
      "2022: 829000000.0\n",
      "\n"
     ]
    }
   ],
   "source": [
    "israel_data = new_df[new_df['Country Name'] == 'Israel']\n",
    "\n",
    "for index, row in israel_data.iterrows():\n",
    "    print(f\"Country Name: {row['Country Name']}\")\n",
    "    for year, value in row.items():\n",
    "        if isinstance(value, float):\n",
    "            print(f\"{year}: {value}\")\n",
    "    print()"
   ]
  },
  {
   "cell_type": "code",
   "execution_count": 31,
   "id": "52e28e6b-69db-4d0c-866b-10192f193a4d",
   "metadata": {},
   "outputs": [],
   "source": [
    "import pandas as pd\n",
    "\n",
    "# Assuming your new DataFrame is named 'new_df'\n",
    "israel_data = new_df[new_df['Country Name'] == 'Israel']\n",
    "\n",
    "data = []\n",
    "for index, row in israel_data.iterrows():\n",
    "    for year, value in row.items():\n",
    "        if isinstance(value, float):\n",
    "            data.append([year, value / 1_000_000])\n",
    "\n",
    "# Create a DataFrame from the data\n",
    "israel_df = pd.DataFrame(data, columns=[\"Year\", \"Value (in millions)\"])\n",
    "\n",
    "# Export the DataFrame to a CSV file\n",
    "israel_df.to_csv(\"israel_data.csv\", index=False)"
   ]
  },
  {
   "cell_type": "code",
   "execution_count": null,
   "id": "58778456-9d70-4372-8171-99806de3a6b4",
   "metadata": {},
   "outputs": [],
   "source": []
  }
 ],
 "metadata": {
  "kernelspec": {
   "display_name": "Python 3 (ipykernel)",
   "language": "python",
   "name": "python3"
  },
  "language_info": {
   "codemirror_mode": {
    "name": "ipython",
    "version": 3
   },
   "file_extension": ".py",
   "mimetype": "text/x-python",
   "name": "python",
   "nbconvert_exporter": "python",
   "pygments_lexer": "ipython3",
   "version": "3.11.8"
  },
  "widgets": {
   "application/vnd.jupyter.widget-state+json": {
    "state": {},
    "version_major": 2,
    "version_minor": 0
   }
  }
 },
 "nbformat": 4,
 "nbformat_minor": 5
}
