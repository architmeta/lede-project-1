{
 "cells": [
  {
   "cell_type": "code",
   "execution_count": 1,
   "id": "44fe628a-732c-4a52-b063-a49991ddea49",
   "metadata": {},
   "outputs": [],
   "source": [
    "import requests\n",
    "import pandas as pd"
   ]
  },
  {
   "cell_type": "code",
   "execution_count": 2,
   "id": "55880eac-abf7-43ec-8690-06a3a5f2ba29",
   "metadata": {},
   "outputs": [],
   "source": [
    "df = pd.read_csv(\"india_arms-cleaned.csv\")"
   ]
  },
  {
   "cell_type": "code",
   "execution_count": 3,
   "id": "f2589bd3-b733-4943-b9e6-a1e5543e7bd8",
   "metadata": {},
   "outputs": [
    {
     "name": "stdout",
     "output_type": "stream",
     "text": [
      "<class 'pandas.core.frame.DataFrame'>\n",
      "RangeIndex: 266 entries, 0 to 265\n",
      "Data columns (total 64 columns):\n",
      " #   Column        Non-Null Count  Dtype  \n",
      "---  ------        --------------  -----  \n",
      " 0   Country Name  266 non-null    object \n",
      " 1   1960          132 non-null    float64\n",
      " 2   1961          119 non-null    float64\n",
      " 3   1962          126 non-null    float64\n",
      " 4   1963          133 non-null    float64\n",
      " 5   1964          143 non-null    float64\n",
      " 6   1965          146 non-null    float64\n",
      " 7   1966          141 non-null    float64\n",
      " 8   1967          131 non-null    float64\n",
      " 9   1968          140 non-null    float64\n",
      " 10  1969          138 non-null    float64\n",
      " 11  1970          137 non-null    float64\n",
      " 12  1971          148 non-null    float64\n",
      " 13  1972          139 non-null    float64\n",
      " 14  1973          149 non-null    float64\n",
      " 15  1974          141 non-null    float64\n",
      " 16  1975          152 non-null    float64\n",
      " 17  1976          153 non-null    float64\n",
      " 18  1977          154 non-null    float64\n",
      " 19  1978          160 non-null    float64\n",
      " 20  1979          150 non-null    float64\n",
      " 21  1980          155 non-null    float64\n",
      " 22  1981          159 non-null    float64\n",
      " 23  1982          158 non-null    float64\n",
      " 24  1983          151 non-null    float64\n",
      " 25  1984          155 non-null    float64\n",
      " 26  1985          158 non-null    float64\n",
      " 27  1986          150 non-null    float64\n",
      " 28  1987          140 non-null    float64\n",
      " 29  1988          143 non-null    float64\n",
      " 30  1989          147 non-null    float64\n",
      " 31  1990          145 non-null    float64\n",
      " 32  1991          133 non-null    float64\n",
      " 33  1992          127 non-null    float64\n",
      " 34  1993          120 non-null    float64\n",
      " 35  1994          138 non-null    float64\n",
      " 36  1995          135 non-null    float64\n",
      " 37  1996          140 non-null    float64\n",
      " 38  1997          140 non-null    float64\n",
      " 39  1998          131 non-null    float64\n",
      " 40  1999          134 non-null    float64\n",
      " 41  2000          143 non-null    float64\n",
      " 42  2001          130 non-null    float64\n",
      " 43  2002          136 non-null    float64\n",
      " 44  2003          128 non-null    float64\n",
      " 45  2004          134 non-null    float64\n",
      " 46  2005          142 non-null    float64\n",
      " 47  2006          147 non-null    float64\n",
      " 48  2007          146 non-null    float64\n",
      " 49  2008          145 non-null    float64\n",
      " 50  2009          154 non-null    float64\n",
      " 51  2010          158 non-null    float64\n",
      " 52  2011          160 non-null    float64\n",
      " 53  2012          168 non-null    float64\n",
      " 54  2013          162 non-null    float64\n",
      " 55  2014          161 non-null    float64\n",
      " 56  2015          166 non-null    float64\n",
      " 57  2016          165 non-null    float64\n",
      " 58  2017          155 non-null    float64\n",
      " 59  2018          162 non-null    float64\n",
      " 60  2019          166 non-null    float64\n",
      " 61  2020          158 non-null    float64\n",
      " 62  2021          162 non-null    float64\n",
      " 63  2022          148 non-null    float64\n",
      "dtypes: float64(63), object(1)\n",
      "memory usage: 133.1+ KB\n"
     ]
    }
   ],
   "source": [
    "df.info()"
   ]
  },
  {
   "cell_type": "code",
   "execution_count": 4,
   "id": "e44ee33e-d921-41b1-a10e-888751faf991",
   "metadata": {},
   "outputs": [
    {
     "name": "stdout",
     "output_type": "stream",
     "text": [
      "    Country Name         1960        1961         1962         1963  \\\n",
      "115       Israel  163000000.0  87000000.0  271000000.0  407000000.0   \n",
      "\n",
      "            1964         1965         1966         1967         1968  ...  \\\n",
      "115  417000000.0  437000000.0  319000000.0  283000000.0  978000000.0  ...   \n",
      "\n",
      "            2013         2014         2015         2016         2017  \\\n",
      "115  216000000.0  549000000.0  688000000.0  622000000.0  535000000.0   \n",
      "\n",
      "            2018         2019         2020         2021         2022  \n",
      "115  494000000.0  519000000.0  367000000.0  476000000.0  829000000.0  \n",
      "\n",
      "[1 rows x 64 columns]\n"
     ]
    }
   ],
   "source": [
    "print(df[df['Country Name'] == 'Israel'])"
   ]
  },
  {
   "cell_type": "code",
   "execution_count": 8,
   "id": "071b78bc-b663-4be9-a97b-c018b3b5f363",
   "metadata": {},
   "outputs": [
    {
     "name": "stdout",
     "output_type": "stream",
     "text": [
      "    Country Name         1960        1961         1962         1963  \\\n",
      "115       Israel  163000000.0  87000000.0  271000000.0  407000000.0   \n",
      "\n",
      "            1964         1965         1966         1967         1968  \\\n",
      "115  417000000.0  437000000.0  319000000.0  283000000.0  978000000.0   \n",
      "\n",
      "             1969          1970          1971         1972          1973  \\\n",
      "115  1.381000e+09  1.122000e+09  1.341000e+09  891000000.0  1.959000e+09   \n",
      "\n",
      "             1974          1975          1976          1977          1978  \\\n",
      "115  1.174000e+09  1.624000e+09  1.939000e+09  1.261000e+09  1.326000e+09   \n",
      "\n",
      "            1979          1980          1981         1982         1983  \\\n",
      "115  698000000.0  1.260000e+09  1.654000e+09  866000000.0  487000000.0   \n",
      "\n",
      "            1984         1985          1986          1987         1988  \\\n",
      "115  286000000.0  309000000.0  1.185000e+09  1.080000e+09  582000000.0   \n",
      "\n",
      "           1989        1990          1991          1992         1993  \\\n",
      "115  24000000.0  81000000.0  1.210000e+09  1.335000e+09  716000000.0   \n",
      "\n",
      "            1994         1995         1996        1997          1998  \\\n",
      "115  761000000.0  366000000.0  108000000.0  59000000.0  1.289000e+09   \n",
      "\n",
      "             1999         2000         2001         2002         2003  \\\n",
      "115  1.191000e+09  354000000.0  116000000.0  337000000.0  179000000.0   \n",
      "\n",
      "            2004          2005          2006         2007         2008  \\\n",
      "115  846000000.0  1.135000e+09  1.125000e+09  835000000.0  679000000.0   \n",
      "\n",
      "            2009        2010        2011         2012         2013  \\\n",
      "115  156000000.0  71000000.0  86000000.0  127000000.0  216000000.0   \n",
      "\n",
      "            2014         2015         2016         2017         2018  \\\n",
      "115  549000000.0  688000000.0  622000000.0  535000000.0  494000000.0   \n",
      "\n",
      "            2019         2020         2021         2022  \n",
      "115  519000000.0  367000000.0  476000000.0  829000000.0  \n"
     ]
    }
   ],
   "source": [
    "import pandas as pd\n",
    "\n",
    "# Adjust the display options to show more columns\n",
    "pd.set_option('display.max_columns', None)\n",
    "\n",
    "# Print the DataFrame\n",
    "print(df.loc[df['Country Name'] == 'Israel'])"
   ]
  },
  {
   "cell_type": "code",
   "execution_count": 25,
   "id": "2a2189cf-2c23-44a3-b2d3-92f39593d95b",
   "metadata": {},
   "outputs": [
    {
     "name": "stdout",
     "output_type": "stream",
     "text": [
      "    Country Name         1960        1961         1962         1963  \\\n",
      "115       Israel  163000000.0  87000000.0  271000000.0  407000000.0   \n",
      "\n",
      "            1964         1965         1966         1967         1968  \\\n",
      "115  417000000.0  437000000.0  319000000.0  283000000.0  978000000.0   \n",
      "\n",
      "             1969          1970          1971         1972          1973  \\\n",
      "115  1.381000e+09  1.122000e+09  1.341000e+09  891000000.0  1.959000e+09   \n",
      "\n",
      "             1974          1975          1976          1977          1978  \\\n",
      "115  1.174000e+09  1.624000e+09  1.939000e+09  1.261000e+09  1.326000e+09   \n",
      "\n",
      "            1979          1980          1981         1982         1983  \\\n",
      "115  698000000.0  1.260000e+09  1.654000e+09  866000000.0  487000000.0   \n",
      "\n",
      "            1984         1985          1986          1987         1988  \\\n",
      "115  286000000.0  309000000.0  1.185000e+09  1.080000e+09  582000000.0   \n",
      "\n",
      "           1989        1990          1991          1992         1993  \\\n",
      "115  24000000.0  81000000.0  1.210000e+09  1.335000e+09  716000000.0   \n",
      "\n",
      "            1994         1995         1996        1997          1998  \\\n",
      "115  761000000.0  366000000.0  108000000.0  59000000.0  1.289000e+09   \n",
      "\n",
      "             1999         2000         2001         2002         2003  \\\n",
      "115  1.191000e+09  354000000.0  116000000.0  337000000.0  179000000.0   \n",
      "\n",
      "            2004          2005          2006         2007         2008  \\\n",
      "115  846000000.0  1.135000e+09  1.125000e+09  835000000.0  679000000.0   \n",
      "\n",
      "            2009        2010        2011         2012         2013  \\\n",
      "115  156000000.0  71000000.0  86000000.0  127000000.0  216000000.0   \n",
      "\n",
      "            2014         2015         2016         2017         2018  \\\n",
      "115  549000000.0  688000000.0  622000000.0  535000000.0  494000000.0   \n",
      "\n",
      "            2019         2020         2021         2022  \n",
      "115  519000000.0  367000000.0  476000000.0  829000000.0  \n"
     ]
    }
   ],
   "source": [
    "# Print the DataFrame for Israel\n",
    "print(df.loc[df['Country Name'] == 'Israel'])\n",
    "\n",
    "# Convert the data for Israel to a two-column DataFrame\n",
    "israel_data_2col = pd.melt(df.loc[df['Country Name'] == 'Israel'], id_vars=['Country Name'], var_name='Year', value_name='Value')\n",
    "\n",
    "# Export the two-column data for Israel to a new CSV file\n",
    "israel_data_2col.to_csv('israel-data-two-columns.csv', index=False)"
   ]
  },
  {
   "cell_type": "code",
   "execution_count": 26,
   "id": "1a1f5e12-f6f5-4dcc-893b-5740bc6d4abf",
   "metadata": {},
   "outputs": [
    {
     "name": "stdout",
     "output_type": "stream",
     "text": [
      "    Country Name         1960        1961         1962         1963  \\\n",
      "115       Israel  163000000.0  87000000.0  271000000.0  407000000.0   \n",
      "\n",
      "            1964         1965         1966         1967         1968  \\\n",
      "115  417000000.0  437000000.0  319000000.0  283000000.0  978000000.0   \n",
      "\n",
      "             1969          1970          1971         1972          1973  \\\n",
      "115  1.381000e+09  1.122000e+09  1.341000e+09  891000000.0  1.959000e+09   \n",
      "\n",
      "             1974          1975          1976          1977          1978  \\\n",
      "115  1.174000e+09  1.624000e+09  1.939000e+09  1.261000e+09  1.326000e+09   \n",
      "\n",
      "            1979          1980          1981         1982         1983  \\\n",
      "115  698000000.0  1.260000e+09  1.654000e+09  866000000.0  487000000.0   \n",
      "\n",
      "            1984         1985          1986          1987         1988  \\\n",
      "115  286000000.0  309000000.0  1.185000e+09  1.080000e+09  582000000.0   \n",
      "\n",
      "           1989        1990          1991          1992         1993  \\\n",
      "115  24000000.0  81000000.0  1.210000e+09  1.335000e+09  716000000.0   \n",
      "\n",
      "            1994         1995         1996        1997          1998  \\\n",
      "115  761000000.0  366000000.0  108000000.0  59000000.0  1.289000e+09   \n",
      "\n",
      "             1999         2000         2001         2002         2003  \\\n",
      "115  1.191000e+09  354000000.0  116000000.0  337000000.0  179000000.0   \n",
      "\n",
      "            2004          2005          2006         2007         2008  \\\n",
      "115  846000000.0  1.135000e+09  1.125000e+09  835000000.0  679000000.0   \n",
      "\n",
      "            2009        2010        2011         2012         2013  \\\n",
      "115  156000000.0  71000000.0  86000000.0  127000000.0  216000000.0   \n",
      "\n",
      "            2014         2015         2016         2017         2018  \\\n",
      "115  549000000.0  688000000.0  622000000.0  535000000.0  494000000.0   \n",
      "\n",
      "            2019         2020         2021         2022  \n",
      "115  519000000.0  367000000.0  476000000.0  829000000.0  \n"
     ]
    }
   ],
   "source": [
    "import pandas as pd\n",
    "\n",
    "# Adjust the display options to show more columns\n",
    "pd.set_option('display.max_columns', None)\n",
    "\n",
    "# Print the DataFrame for Israel\n",
    "print(df.loc[df['Country Name'] == 'Israel'])\n",
    "\n",
    "# Convert the data for Israel to a two-column DataFrame\n",
    "israel_data_2col = pd.melt(df.loc[df['Country Name'] == 'Israel'], id_vars=['Country Name'], var_name='Year', value_name='Value')\n",
    "\n",
    "# Convert the 'Value' column to integer\n",
    "israel_data_2col['Value'] = israel_data_2col['Value'].astype(int)\n",
    "\n",
    "# Convert the 'Value' column to millions\n",
    "israel_data_2col['Value'] = israel_data_2col['Value'] / 1_000_000\n",
    "\n",
    "# Export the two-column data for Israel to a new CSV file\n",
    "israel_data_2col.to_csv('israel-data-two-columns-millions.csv', index=False)"
   ]
  },
  {
   "cell_type": "code",
   "execution_count": null,
   "id": "683c8de5-e4af-4b8c-b46e-2258c0dd1ac3",
   "metadata": {},
   "outputs": [],
   "source": []
  }
 ],
 "metadata": {
  "kernelspec": {
   "display_name": "Python 3 (ipykernel)",
   "language": "python",
   "name": "python3"
  },
  "language_info": {
   "codemirror_mode": {
    "name": "ipython",
    "version": 3
   },
   "file_extension": ".py",
   "mimetype": "text/x-python",
   "name": "python",
   "nbconvert_exporter": "python",
   "pygments_lexer": "ipython3",
   "version": "3.11.8"
  },
  "widgets": {
   "application/vnd.jupyter.widget-state+json": {
    "state": {},
    "version_major": 2,
    "version_minor": 0
   }
  }
 },
 "nbformat": 4,
 "nbformat_minor": 5
}
